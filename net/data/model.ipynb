{
 "cells": [
  {
   "cell_type": "code",
   "execution_count": 1,
   "metadata": {},
   "outputs": [],
   "source": [
    "import pandas as pd\n",
    "import numpy as np\n"
   ]
  },
  {
   "cell_type": "code",
   "execution_count": 2,
   "metadata": {},
   "outputs": [
    {
     "name": "stderr",
     "output_type": "stream",
     "text": [
      "C:\\Users\\Hari\\AppData\\Local\\Temp\\ipykernel_11256\\2491193159.py:1: DtypeWarning: Columns (7,19,20,23,24,25) have mixed types. Specify dtype option on import or set low_memory=False.\n",
      "  data = pd.read_csv(\"train.csv\")\n"
     ]
    },
    {
     "name": "stdout",
     "output_type": "stream",
     "text": [
      "   timestamp          src_ip        dst_ip protocol  length  src_port  \\\n",
      "0   0.000000  10.147.155.240  172.16.0.248      DNS      70       NaN   \n",
      "1   0.000083    137.149.26.0  172.16.0.248      DNS      70       NaN   \n",
      "2   0.000111     140.6.241.0  172.16.0.248      DNS      70       NaN   \n",
      "3   0.000128    91.112.128.0  172.16.0.248      DNS      70       NaN   \n",
      "4   0.000146     221.63.62.0  172.16.0.248      DNS      70       NaN   \n",
      "\n",
      "   dst_port flag  seq_no  ack_no  ...  req_type     req_for  response_no  \\\n",
      "0       NaN  NaN     NaN     NaN  ...       NaN  test_query          NaN   \n",
      "1       NaN  NaN     NaN     NaN  ...       NaN  test_query          NaN   \n",
      "2       NaN  NaN     NaN     NaN  ...       NaN  test_query          NaN   \n",
      "3       NaN  NaN     NaN     NaN  ...       NaN  test_query          NaN   \n",
      "4       NaN  NaN     NaN     NaN  ...       NaN  test_query          NaN   \n",
      "\n",
      "   version  dns_query_response   tx_id  req_reply  ttl  req_resp_no  \\\n",
      "0      NaN      Standard_query  0x4242        NaN  NaN          NaN   \n",
      "1      NaN      Standard_query  0x4242        NaN  NaN          NaN   \n",
      "2      NaN      Standard_query  0x4242        NaN  NaN          NaN   \n",
      "3      NaN      Standard_query  0x4242        NaN  NaN          NaN   \n",
      "4      NaN      Standard_query  0x4242        NaN  NaN          NaN   \n",
      "\n",
      "              label  \n",
      "0  DNS_flood_attack  \n",
      "1  DNS_flood_attack  \n",
      "2  DNS_flood_attack  \n",
      "3  DNS_flood_attack  \n",
      "4  DNS_flood_attack  \n",
      "\n",
      "[5 rows x 29 columns]\n"
     ]
    }
   ],
   "source": [
    "data = pd.read_csv(\"train.csv\")\n",
    "print(data.head())"
   ]
  },
  {
   "cell_type": "code",
   "execution_count": null,
   "metadata": {},
   "outputs": [],
   "source": []
  }
 ],
 "metadata": {
  "kernelspec": {
   "display_name": "venv",
   "language": "python",
   "name": "python3"
  },
  "language_info": {
   "codemirror_mode": {
    "name": "ipython",
    "version": 3
   },
   "file_extension": ".py",
   "mimetype": "text/x-python",
   "name": "python",
   "nbconvert_exporter": "python",
   "pygments_lexer": "ipython3",
   "version": "3.12.2"
  }
 },
 "nbformat": 4,
 "nbformat_minor": 2
}
